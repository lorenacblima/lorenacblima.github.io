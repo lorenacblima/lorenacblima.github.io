{
 "cells": [
  {
   "cell_type": "markdown",
   "metadata": {},
   "source": [
    "# Condicionais"
   ]
  },
  {
   "cell_type": "code",
   "execution_count": 20,
   "metadata": {},
   "outputs": [
    {
     "name": "stdout",
     "output_type": "stream",
     "text": [
      "Entre com o número de dependentes:1\n",
      "Entre com o sua renda anual:5.000\n",
      "Seu desconto é: 0.20\n",
      "Imposto a ser pago:  1\n"
     ]
    }
   ],
   "source": [
    "# Taxa de impostos X número de dependentes\n",
    "# 0 = 25%\n",
    "# 1 = 20%\n",
    "# 2 = 15%\n",
    "# 3 ou mais = 10%\n",
    "\n",
    "try: \n",
    "    dependentes = int(input('Entre com o número de dependentes:'))\n",
    "    renda = float(input('Entre com o sua renda anual:'))\n",
    "    if dependentes >=0:\n",
    "        if dependentes ==0:\n",
    "            taxa_imposto = .25\n",
    "        elif dependentes ==1:\n",
    "            taxa_imposto = .20\n",
    "        elif dependentes == 2:\n",
    "            taxa_imposto = .15\n",
    "        else: #>=3 ...\n",
    "            taxa_imposto = .10\n",
    "        print ('Seu desconto é: %.2f' % taxa_imposto)\n",
    "        valor_ser_pago = taxa_imposto*renda\n",
    "        print('Imposto a ser pago: %2.f'% valor_ser_pago)\n",
    "    else: # dependentes <0\n",
    "        print('Número de dependentes inválido.')\n",
    "except ValueError:\n",
    "    print('Input inválido. Fim do programa.')\n",
    "        "
   ]
  },
  {
   "cell_type": "code",
   "execution_count": null,
   "metadata": {},
   "outputs": [],
   "source": []
  },
  {
   "cell_type": "code",
   "execution_count": null,
   "metadata": {},
   "outputs": [],
   "source": []
  }
 ],
 "metadata": {
  "kernelspec": {
   "display_name": "Python 3",
   "language": "python",
   "name": "python3"
  },
  "language_info": {
   "codemirror_mode": {
    "name": "ipython",
    "version": 3
   },
   "file_extension": ".py",
   "mimetype": "text/x-python",
   "name": "python",
   "nbconvert_exporter": "python",
   "pygments_lexer": "ipython3",
   "version": "3.7.1"
  }
 },
 "nbformat": 4,
 "nbformat_minor": 2
}
