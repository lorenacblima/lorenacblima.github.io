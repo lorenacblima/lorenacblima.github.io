{
 "cells": [
  {
   "cell_type": "markdown",
   "metadata": {},
   "source": [
    "# Funções"
   ]
  },
  {
   "cell_type": "code",
   "execution_count": 15,
   "metadata": {},
   "outputs": [],
   "source": [
    "def c2f(temp_in_c):\n",
    "    temp_in_f=((9/5)*temp_in_c) +32\n",
    "    return temp_in_f\n",
    "def c2f(temp_in_f):\n",
    "    temp_in_c=(temp_in_f-32)*(5/9)\n",
    "    return temp_in_c"
   ]
  },
  {
   "cell_type": "code",
   "execution_count": 18,
   "metadata": {},
   "outputs": [
    {
     "name": "stdout",
     "output_type": "stream",
     "text": [
      "Digite a temperatura:23\n",
      "A temperatura está em qual unidade?[F/C]C\n",
      "23.0 C é -5.0 F\n"
     ]
    }
   ],
   "source": [
    "try:\n",
    "    temperatura=float(input('Digite a temperatura:'))\n",
    "    unidade= input('A temperatura está em qual unidade?[F/C]')\n",
    "    if unidade =='F':\n",
    "        c=f2c(temperatura)\n",
    "        print('%.1f F é %.1f C'%(temperatura,c))\n",
    "    elif unidade == 'C':\n",
    "        f=c2f(temperatura)\n",
    "        print('%.1f C é %.1f F'%(temperatura, f))\n",
    "    else:\n",
    "        print('Não foi possível coverter esse valor')\n",
    "except ValueError:\n",
    "    print('Esse valor não é uma temperatura')"
   ]
  },
  {
   "cell_type": "code",
   "execution_count": null,
   "metadata": {},
   "outputs": [],
   "source": []
  }
 ],
 "metadata": {
  "kernelspec": {
   "display_name": "Python 3",
   "language": "python",
   "name": "python3"
  },
  "language_info": {
   "codemirror_mode": {
    "name": "ipython",
    "version": 3
   },
   "file_extension": ".py",
   "mimetype": "text/x-python",
   "name": "python",
   "nbconvert_exporter": "python",
   "pygments_lexer": "ipython3",
   "version": "3.7.1"
  }
 },
 "nbformat": 4,
 "nbformat_minor": 2
}
