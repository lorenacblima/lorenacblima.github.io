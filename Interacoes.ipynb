{
 "cells": [
  {
   "cell_type": "markdown",
   "metadata": {},
   "source": [
    "# Interações"
   ]
  },
  {
   "cell_type": "code",
   "execution_count": 3,
   "metadata": {},
   "outputs": [
    {
     "name": "stdout",
     "output_type": "stream",
     "text": [
      "Digite sua senha:lo\n",
      "Senha inválida Tentativa #1\n",
      "Digite sua senha:euamopython\n",
      "Acesso permitido!\n"
     ]
    }
   ],
   "source": [
    "senha = \"euamopython\"\n",
    "max_tentativas = 3\n",
    "tentativas = 0\n",
    "while True:\n",
    "    sua_senha= input('Digite sua senha:')\n",
    "    tentativas= tentativas+1\n",
    "    if sua_senha == senha:\n",
    "        print ('Acesso permitido!')\n",
    "        break\n",
    "    if senha == max_tentativas:\n",
    "        print ('Acesso negado')\n",
    "        break\n",
    "    print('Senha inválida Tentativa #%d'%(tentativas))"
   ]
  },
  {
   "cell_type": "code",
   "execution_count": null,
   "metadata": {},
   "outputs": [],
   "source": []
  }
 ],
 "metadata": {
  "kernelspec": {
   "display_name": "Python 3",
   "language": "python",
   "name": "python3"
  },
  "language_info": {
   "codemirror_mode": {
    "name": "ipython",
    "version": 3
   },
   "file_extension": ".py",
   "mimetype": "text/x-python",
   "name": "python",
   "nbconvert_exporter": "python",
   "pygments_lexer": "ipython3",
   "version": "3.7.1"
  }
 },
 "nbformat": 4,
 "nbformat_minor": 2
}
